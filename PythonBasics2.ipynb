{
 "cells": [
  {
   "cell_type": "code",
   "execution_count": 5,
   "id": "3e000817-030e-405c-8ea2-205deb10d667",
   "metadata": {},
   "outputs": [
    {
     "name": "stdout",
     "output_type": "stream",
     "text": [
      "1 2 3 4 6 12 \n"
     ]
    }
   ],
   "source": [
    "#To check the divisors of 12\n",
    "n=12\n",
    "x=1\n",
    "while x<=12:\n",
    "    if n%x==0:\n",
    "        print(x, end=\" \")\n",
    "    x=x+1\n",
    "print()"
   ]
  },
  {
   "cell_type": "code",
   "execution_count": 6,
   "id": "964fc3e7-0683-4871-b016-ce96e7f5c92c",
   "metadata": {},
   "outputs": [
    {
     "name": "stdout",
     "output_type": "stream",
     "text": [
      "97\n",
      "65\n",
      "a\n",
      "A\n"
     ]
    }
   ],
   "source": [
    "#Strings are sequences of characters used to store text data\n",
    "#chr() function returns the character corresponding to a given integer.\n",
    "#chr()  = return a character\n",
    "#ord() = return integer\n",
    "print(ord(\"a\"))\n",
    "print(ord(\"A\"))\n",
    "print(chr(97))\n",
    "print(chr(65))"
   ]
  },
  {
   "cell_type": "code",
   "execution_count": null,
   "id": "7d3e6aaa-39fd-46fe-bde0-fcf82fef524b",
   "metadata": {},
   "outputs": [],
   "source": [
    "#strings are immutable, once created , it cannot change\n",
    "#Access characgter in a string\n",
    "#Single qoute(\\')   :  escape the quotes\n",
    "#\\n'  : new line\n",
    "#\\t : adds tab space\n",
    "#\\\\(to include backlash itself)"
   ]
  },
  {
   "cell_type": "code",
   "execution_count": null,
   "id": "d167181b-f381-4e6b-901e-a47be28e583d",
   "metadata": {},
   "outputs": [],
   "source": [
    "Raw strings are created by prefixing the string with r or R. \n",
    "This tells Python to treat backslashes \n",
    "as literal characters, not as escape characters."
   ]
  },
  {
   "cell_type": "code",
   "execution_count": 9,
   "id": "81fc382f-0292-42b3-b169-54de33405655",
   "metadata": {},
   "outputs": [
    {
     "name": "stdout",
     "output_type": "stream",
     "text": [
      "welcome a b to python\n"
     ]
    }
   ],
   "source": [
    "#old style formatting'\n",
    "name1='a'\n",
    "name2='b'\n",
    "formatted_string='welcome %s %s to python' %(name1, name2)\n",
    "print(formatted_string)\n"
   ]
  },
  {
   "cell_type": "code",
   "execution_count": 10,
   "id": "66a184de-ca0f-4b14-bedc-7040a1806089",
   "metadata": {},
   "outputs": [
    {
     "name": "stdout",
     "output_type": "stream",
     "text": [
      "welcome a b to python\n"
     ]
    }
   ],
   "source": [
    "#using .format()\n",
    "name1='a'\n",
    "name2='b'\n",
    "formatted_string='welcome {} {} to python' .format(name1, name2)\n",
    "print(formatted_string)"
   ]
  },
  {
   "cell_type": "code",
   "execution_count": 11,
   "id": "7ab27c2c-0ef5-4e99-94f6-e5291a1c5eb0",
   "metadata": {},
   "outputs": [
    {
     "name": "stdout",
     "output_type": "stream",
     "text": [
      "welcome a b to python\n"
     ]
    }
   ],
   "source": [
    "#positional arguments\n",
    "name1='a'\n",
    "name2='b'\n",
    "formatted_string='welcome {0} {1} to python' .format(name1, name2)\n",
    "print(formatted_string)"
   ]
  },
  {
   "cell_type": "code",
   "execution_count": 13,
   "id": "8a06960c-497b-4640-bf33-e04934f07f25",
   "metadata": {},
   "outputs": [
    {
     "name": "stdout",
     "output_type": "stream",
     "text": [
      "welcome a b to python\n"
     ]
    }
   ],
   "source": [
    "#keyword arguments\n",
    "name1='a'\n",
    "name2='b'\n",
    "formatted_string='welcome {first} {second} to python' .format(first=name1, second= name2)\n",
    "print(formatted_string)"
   ]
  },
  {
   "cell_type": "code",
   "execution_count": 15,
   "id": "6e5d3996-4e7a-4a7c-ad9a-a62cc57afd87",
   "metadata": {},
   "outputs": [
    {
     "name": "stdout",
     "output_type": "stream",
     "text": [
      "welcome a b to home\n"
     ]
    }
   ],
   "source": [
    "#f string\n",
    "n1='a'\n",
    "n2='b'\n",
    "f_s=f'welcome {n1} {n2} to home'\n",
    "print(f_s)"
   ]
  },
  {
   "cell_type": "code",
   "execution_count": 19,
   "id": "5cca8675-01b8-4aa1-a90d-df3bb4f3f85a",
   "metadata": {},
   "outputs": [
    {
     "name": "stdout",
     "output_type": "stream",
     "text": [
      "sum10 20 is 30\n"
     ]
    }
   ],
   "source": [
    "#using expressions\n",
    "n1=10\n",
    "n2=20\n",
    "f_s=f'sum{n1} {n2} is {n1+n2}'\n",
    "print(f_s)"
   ]
  },
  {
   "cell_type": "code",
   "execution_count": null,
   "id": "9ba685e7-7306-4f72-9f4e-eb0072a8fb90",
   "metadata": {},
   "outputs": [],
   "source": [
    "#The rindex() method returns the highest index of the specified substring within the string. I\n",
    "#if the substring is not found, it raises a ValueError.\n",
    "\n",
    "#The upper() method converts all characters in a string to uppercase,\n",
    "#while the lower() method converts them to lowercase.\n",
    "\n",
    "#The islower() method checks if all characters in the string are lowercase,\n",
    "#returning True or False.\n",
    "\n",
    "#The startswith() method checks if a string starts with a specified substring, \n",
    "#while endswith() checks the end. Both return True or False.\n"
   ]
  },
  {
   "cell_type": "code",
   "execution_count": 20,
   "id": "72d675df-2a1b-4833-9f30-829f3e427b5f",
   "metadata": {},
   "outputs": [
    {
     "name": "stdout",
     "output_type": "stream",
     "text": [
      "['geeks', 'for', 'geeks']\n"
     ]
    }
   ],
   "source": [
    "#split() divides the string into a list of substring based on seperator\n",
    "#The join() method combines a list of strings into a single string using a specified separator.\n",
    "#''.join\n",
    "s1 = \"geeks for geeks\"\n",
    "print(s1.split()) "
   ]
  },
  {
   "cell_type": "code",
   "execution_count": 21,
   "id": "1cd10eed-d7df-40e0-b4c8-942b27fbff51",
   "metadata": {},
   "outputs": [
    {
     "name": "stdout",
     "output_type": "stream",
     "text": [
      "geeksforgeeks\n",
      "geeksforgeeks---\n",
      "--geeksforgeeks\n"
     ]
    }
   ],
   "source": [
    "#strip(), lstrip(), rstrip()\n",
    "#These methods remove unwanted characters from the string. strip() removes from both ends, \n",
    "#lstrip() from the left, and \n",
    "#rstrip() from the right\n",
    "\n",
    "s = \"--geeksforgeeks---\"\n",
    "print(s.strip(\"-\"))  \n",
    "print(s.lstrip(\"-\"))  \n",
    "print(s.rstrip(\"-\"))"
   ]
  },
  {
   "cell_type": "code",
   "execution_count": null,
   "id": "a024ecd9-0c85-4a46-a065-df7f68dd29df",
   "metadata": {},
   "outputs": [],
   "source": []
  }
 ],
 "metadata": {
  "kernelspec": {
   "display_name": "Python 3 (ipykernel)",
   "language": "python",
   "name": "python3"
  },
  "language_info": {
   "codemirror_mode": {
    "name": "ipython",
    "version": 3
   },
   "file_extension": ".py",
   "mimetype": "text/x-python",
   "name": "python",
   "nbconvert_exporter": "python",
   "pygments_lexer": "ipython3",
   "version": "3.11.7"
  },
  "widgets": {
   "application/vnd.jupyter.widget-state+json": {
    "state": {},
    "version_major": 2,
    "version_minor": 0
   }
  }
 },
 "nbformat": 4,
 "nbformat_minor": 5
}
