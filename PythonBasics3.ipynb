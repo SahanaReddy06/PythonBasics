{
 "cells": [
  {
   "cell_type": "code",
   "execution_count": 3,
   "id": "f5945b37-887b-42e4-9fd1-355e99e294da",
   "metadata": {},
   "outputs": [
    {
     "name": "stdout",
     "output_type": "stream",
     "text": [
      "0\n",
      "10\n"
     ]
    }
   ],
   "source": [
    "txt = \"geeks for geeks\"\n",
    "pat = \"geeks\"\n",
    "\n",
    "pos = txt.find(pat)\n",
    "\n",
    "while pos >= 0:\n",
    "    print(pos)\n",
    "    pos = txt.find(pat, pos + 1)"
   ]
  },
  {
   "cell_type": "code",
   "execution_count": 7,
   "id": "b4a93e5d-6156-410a-9cfe-81b969aea935",
   "metadata": {},
   "outputs": [
    {
     "name": "stdout",
     "output_type": "stream",
     "text": [
      "its a palindrome\n"
     ]
    }
   ],
   "source": [
    "#to check palindrome\n",
    "s=\"abccba\"\n",
    "left=0\n",
    "right=len(s)-1\n",
    "while left < right:\n",
    "    if s[left]!=s[right]:\n",
    "        print(\"not a palindrome\")\n",
    "    left+=1\n",
    "    right-=1\n",
    "else:\n",
    "    print(\"its a palindrome\")"
   ]
  },
  {
   "cell_type": "code",
   "execution_count": 8,
   "id": "60dd2df6-55f3-4a9b-966a-66c870f085a5",
   "metadata": {},
   "outputs": [
    {
     "name": "stdout",
     "output_type": "stream",
     "text": [
      "Yes\n"
     ]
    }
   ],
   "source": [
    "s=\"abba\"\n",
    "if s==s[::-1]:\n",
    "    print(\"Yes\")\n",
    "else:\n",
    "    print(\"no\")"
   ]
  },
  {
   "cell_type": "code",
   "execution_count": 13,
   "id": "05f38635-0507-433e-85ba-5ed5077de2fe",
   "metadata": {},
   "outputs": [
    {
     "name": "stdout",
     "output_type": "stream",
     "text": [
      "1100\n"
     ]
    }
   ],
   "source": [
    "def decimal_to_binary(n):\n",
    "    if n==0:\n",
    "        return 0\n",
    "    binary=\"\"\n",
    "    while n>0:\n",
    "        binary=str(n%2)+binary\n",
    "        n=n//2\n",
    "    return binary\n",
    "n=12\n",
    "result=print(decimal_to_binary(n))"
   ]
  },
  {
   "cell_type": "code",
   "execution_count": 14,
   "id": "3234bf9e-8491-42b4-9422-9ae59022a0c0",
   "metadata": {},
   "outputs": [
    {
     "name": "stdout",
     "output_type": "stream",
     "text": [
      "6\n"
     ]
    }
   ],
   "source": [
    "def bin_to_dec(n):\n",
    "    result=0\n",
    "    power=1   #2 pow 0\n",
    "    for i in reversed(n):   #reverse the n to 011 \n",
    "        result+=int(i)*power  #2 pow 0   * 0\n",
    "        power*=2    #2pow 0\n",
    "    return result\n",
    "input=\"110\"\n",
    "print(bin_to_dec(input))"
   ]
  },
  {
   "cell_type": "code",
   "execution_count": null,
   "id": "5bb9eb00-ab54-4b2e-8aef-8d540e0571ee",
   "metadata": {},
   "outputs": [],
   "source": [
    "#slicing\n",
    "#[:] returns the entire list\n",
    "#[2:] from index  2 to end\n",
    "#[:4] from beg to end 4\n",
    "#[1::3] from index 1 to end, every 3rd element\n",
    "#[:6:2] from beg to 6 , every 2 \n",
    "#[::-1] reverse\n",
    "#[::3] from start to stop for every 3rd element\n",
    "\n"
   ]
  },
  {
   "cell_type": "code",
   "execution_count": 19,
   "id": "4a550f37-4ee9-4952-80d5-7a099707b9e1",
   "metadata": {},
   "outputs": [
    {
     "name": "stdout",
     "output_type": "stream",
     "text": [
      "[8, 3, 7]\n"
     ]
    }
   ],
   "source": [
    "def small(l,x):\n",
    "    res=[]\n",
    "    for e in l:\n",
    "        if e<x:\n",
    "            res.append(e)\n",
    "    return res\n",
    "l=[8,100,20,40,3,7]\n",
    "x=10\n",
    "print(small(l,x))"
   ]
  },
  {
   "cell_type": "code",
   "execution_count": 20,
   "id": "fe67b3ae-b678-47a0-b0a5-1105a7f63425",
   "metadata": {},
   "outputs": [
    {
     "name": "stdout",
     "output_type": "stream",
     "text": [
      "([2, 4], [1, 3, 5])\n"
     ]
    }
   ],
   "source": [
    "def seperate(list):\n",
    "    even=[]\n",
    "    odd=[]\n",
    "    for i in list:\n",
    "        if i%2==0:\n",
    "            even.append(i)\n",
    "        else:\n",
    "            odd.append(i)\n",
    "    return even, odd\n",
    "list=[1,2,3,4,5]\n",
    "print(seperate(list))"
   ]
  },
  {
   "cell_type": "code",
   "execution_count": 1,
   "id": "6f943a8a-49c8-4268-a3c2-4bc9e0633d2b",
   "metadata": {},
   "outputs": [
    {
     "name": "stdout",
     "output_type": "stream",
     "text": [
      "[0, 2, 4, 6, 8, 10]\n"
     ]
    }
   ],
   "source": [
    "#List Comprehension is a shorthand syntax to create a list from another iterable. \n",
    "#An iterable can be a range, set, tuple, list, or dictionary.\n",
    "l1=[x for x in range(11) if x%2==0]\n",
    "print(l1)"
   ]
  },
  {
   "cell_type": "code",
   "execution_count": 5,
   "id": "8af312e4-b9a6-4f55-abc4-c4c8e891ee4d",
   "metadata": {},
   "outputs": [
    {
     "name": "stdout",
     "output_type": "stream",
     "text": [
      "[0, 2, 4, 6, 8, 10]\n"
     ]
    }
   ],
   "source": [
    "l=[]\n",
    "for x in range(11):\n",
    "    if x%2==0:\n",
    "        l.append(x)\n",
    "print(l)"
   ]
  },
  {
   "cell_type": "code",
   "execution_count": 6,
   "id": "62d1bee5-863a-48f2-9b5d-b1c596d7d445",
   "metadata": {},
   "outputs": [
    {
     "name": "stdout",
     "output_type": "stream",
     "text": [
      "[9, 3, 7]\n"
     ]
    }
   ],
   "source": [
    "def getSmaller(l,x):\n",
    "    return [i for i in l if i<x]\n",
    "l=[9,15,12,3,7,11]\n",
    "x=10\n",
    "print(getSmaller(l,x))"
   ]
  },
  {
   "cell_type": "code",
   "execution_count": 13,
   "id": "2b68c6dd-e6cb-4066-93d5-e05859405b17",
   "metadata": {},
   "outputs": [
    {
     "name": "stdout",
     "output_type": "stream",
     "text": [
      "25.0\n"
     ]
    }
   ],
   "source": [
    "#avg or mean of list\n",
    "def avg(n):\n",
    "    sum=0\n",
    "    for i in n:\n",
    "        sum=sum+i\n",
    "        count=len(n)\n",
    "        avg=sum/count\n",
    "    return avg\n",
    "n=[10,20,30,40]\n",
    "print(avg(n))"
   ]
  },
  {
   "cell_type": "code",
   "execution_count": 14,
   "id": "e6186628-2536-4ceb-a737-c46451e6a557",
   "metadata": {},
   "outputs": [
    {
     "name": "stdout",
     "output_type": "stream",
     "text": [
      "25.0\n"
     ]
    }
   ],
   "source": [
    "def avg(n):\n",
    "    return sum(n)/len(n)\n",
    "n=[10,20,30,40]\n",
    "print(avg(n))\n"
   ]
  },
  {
   "cell_type": "code",
   "execution_count": 25,
   "id": "91c668a4-d180-49c8-840c-d1374e408d3d",
   "metadata": {},
   "outputs": [
    {
     "name": "stdout",
     "output_type": "stream",
     "text": [
      "3\n"
     ]
    }
   ],
   "source": [
    "def count(n):\n",
    "    count=1\n",
    "    for i in range(1, len(n)):\n",
    "        if n[i] not in n[:i]:\n",
    "            count=count+1\n",
    "    return count\n",
    "n=[10,20,10,30,30,20]\n",
    "print(count(n))"
   ]
  },
  {
   "cell_type": "code",
   "execution_count": 27,
   "id": "9d085183-6977-40ab-a221-93cd125c281c",
   "metadata": {},
   "outputs": [
    {
     "name": "stdout",
     "output_type": "stream",
     "text": [
      "True\n"
     ]
    }
   ],
   "source": [
    "#sorting\n",
    "def sort(n):\n",
    "    for i in range(1, len(n)):\n",
    "        if n[i]<n[i-1]:\n",
    "            return False\n",
    "        return True\n",
    "print(sort([1,2,3,4]))"
   ]
  },
  {
   "cell_type": "code",
   "execution_count": 32,
   "id": "a315c6d5-8294-4e66-abaa-39f51535313c",
   "metadata": {},
   "outputs": [
    {
     "name": "stdout",
     "output_type": "stream",
     "text": [
      "[10, 20, 30]\n"
     ]
    }
   ],
   "source": [
    "def sort(n):\n",
    "    return n==sorted(n)\n",
    "print(sorted([10,20,30]))"
   ]
  }
 ],
 "metadata": {
  "kernelspec": {
   "display_name": "Python 3 (ipykernel)",
   "language": "python",
   "name": "python3"
  },
  "language_info": {
   "codemirror_mode": {
    "name": "ipython",
    "version": 3
   },
   "file_extension": ".py",
   "mimetype": "text/x-python",
   "name": "python",
   "nbconvert_exporter": "python",
   "pygments_lexer": "ipython3",
   "version": "3.11.7"
  },
  "widgets": {
   "application/vnd.jupyter.widget-state+json": {
    "state": {},
    "version_major": 2,
    "version_minor": 0
   }
  }
 },
 "nbformat": 4,
 "nbformat_minor": 5
}
