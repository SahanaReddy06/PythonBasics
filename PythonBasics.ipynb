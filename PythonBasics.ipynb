{
 "cells": [
  {
   "cell_type": "code",
   "execution_count": 5,
   "id": "9c8657bf-986f-4386-abf1-5ce2c78f6f28",
   "metadata": {},
   "outputs": [
    {
     "name": "stdout",
     "output_type": "stream",
     "text": [
      "21\n",
      "Sahana\n"
     ]
    }
   ],
   "source": [
    "#variables in Python ->  Variables are containers used to store data in memeory \n",
    "#Python is a Dynamically typed language,you don't want to declare \n",
    "#variables dont have fixed data types\n",
    "age=21\n",
    "name=\"Sahana\"\n",
    "print(age)\n",
    "print(name)"
   ]
  },
  {
   "cell_type": "code",
   "execution_count": 11,
   "id": "6c9f9765-1c15-42be-a71a-de7e509172b2",
   "metadata": {},
   "outputs": [
    {
     "name": "stdout",
     "output_type": "stream",
     "text": [
      "200 100\n"
     ]
    }
   ],
   "source": [
    "#Swap two variables \n",
    "x=100\n",
    "y=200\n",
    "temp=x\n",
    "x=y\n",
    "y=temp\n",
    "print(x, y)\n",
    "# or x,y=y,x"
   ]
  },
  {
   "cell_type": "code",
   "execution_count": 13,
   "id": "737bc0b8-1686-4648-aa6a-b11d581fec87",
   "metadata": {},
   "outputs": [
    {
     "name": "stdout",
     "output_type": "stream",
     "text": [
      "140705738507336\n"
     ]
    }
   ],
   "source": [
    "#id() function is a built-in function that provides a unique identifier for evvry object.This help how objects store and reference  in memory.\n",
    "\n",
    "a=10\n",
    "print(id(a))\n",
    "b=a  #same identifier , because both refer to the same object"
   ]
  },
  {
   "cell_type": "code",
   "execution_count": null,
   "id": "339eb2ee-4527-41b0-b6c3-d78124aa7a66",
   "metadata": {},
   "outputs": [],
   "source": [
    "#List is a collection of items that can hold a multiple values of different data types.\n",
    "#It can be created using [].\n",
    "# a=[1, 2, 3]\n",
    "#list are mutable(cannot change)"
   ]
  },
  {
   "cell_type": "code",
   "execution_count": 15,
   "id": "842d3d6e-cd99-4f1a-ad2b-ffef7ee86822",
   "metadata": {},
   "outputs": [
    {
     "name": "stdout",
     "output_type": "stream",
     "text": [
      "[10, 20, 30, 40, 50]\n",
      "40\n",
      "[10, 20, 30, 40, 50, 60]\n",
      "[10, 15, 20, 30, 40, 50, 60]\n",
      "1\n",
      "3\n",
      "[10, 15, 20, 30, 40, 50, 60]\n",
      "[10, 20, 30, 40, 50, 60]\n",
      "60\n",
      "30\n",
      "[10, 40, 50]\n",
      "50\n"
     ]
    }
   ],
   "source": [
    "#List operations\n",
    "a=[10,20,30,40,50]\n",
    "print(a)\n",
    "print(a[3])\n",
    "a.append(60)\n",
    "print(a)\n",
    "a.insert(1,15)\n",
    "print(a)\n",
    "print(a.count(30))\n",
    "print(a.index(30))\n",
    "print(a)\n",
    "a.remove(15)  #This function removes the first occurence of an item\n",
    "print(a)\n",
    "print(a.pop())\n",
    "print(a.pop(2))     #pop removes and returns the last occurence\n",
    "del a[1]          #removes the item at a specified index\n",
    "print(a)\n",
    "print(max(a))    # it returns the max of the item list\n",
    "#reverse, sort, min, sum functions "
   ]
  },
  {
   "cell_type": "code",
   "execution_count": 17,
   "id": "d3c6d949-4e10-4f3b-b931-d65562afb399",
   "metadata": {},
   "outputs": [
    {
     "name": "stdout",
     "output_type": "stream",
     "text": [
      "sahana\n",
      "3\n",
      "0\n",
      "1\n",
      "(20, 30)\n"
     ]
    }
   ],
   "source": [
    "#tuple is a collection of items that are ordered and unchangeable, indexed(you can access items through their index.\n",
    "#Tuples are crfeated without using ()\n",
    "a=10,20\n",
    "a=(10,)\n",
    "tuple=(10,'sahana', 20)\n",
    "print(tuple[1])\n",
    "\n",
    "a=(10,20, 30)\n",
    "print(len(a))\n",
    "print(a.count(1))\n",
    "print(a.index(20))\n",
    "print(a[1:3])  #slicing tuples\n"
   ]
  },
  {
   "cell_type": "code",
   "execution_count": 23,
   "id": "1739e4f5-4fec-497d-8b78-a245b147b9db",
   "metadata": {},
   "outputs": [
    {
     "name": "stdout",
     "output_type": "stream",
     "text": [
      "{10, 20, 30}\n",
      "{10, 20, 30}\n",
      "{}\n",
      "<class 'set'>\n",
      "set()\n"
     ]
    }
   ],
   "source": [
    "#Sets - set is a collection of items, similar to list.\n",
    "#set only contains unique items.\n",
    "#unordered\n",
    "#Noindexing\n",
    "s1={10,20,30}\n",
    "print(s1)\n",
    "\n",
    "s2=set([10,20,30])\n",
    "print(s2)\n",
    "\n",
    "s3={}\n",
    "print(s3)\n",
    "\n",
    "s4=set()\n",
    "print(type(s4))\n",
    "print(s4)\n",
    "\n",
    "#discard-removes if it exist\n",
    "#remove an item , if not there it raises an error\n",
    "#clear - results empty set\n",
    "#del- delete the entire subject"
   ]
  },
  {
   "cell_type": "code",
   "execution_count": 24,
   "id": "35f308c2-107f-46d2-a044-bd4eee8a78ab",
   "metadata": {},
   "outputs": [
    {
     "name": "stdout",
     "output_type": "stream",
     "text": [
      "{110: 'wxy', 101: 'abc', 105: 'bcd'}\n",
      "{'laptop': 40000, 'mobile': 15000, 'earphones': 1000}\n"
     ]
    }
   ],
   "source": [
    "#Dictionary - stores data in pairs, where each key is associated with pairs, un ordered\n",
    "d={110:\"xyz\", 101:\"abc\", 105:\"bcd\"}\n",
    "d[110]=\"wxy\"\n",
    "print(d)\n",
    "#get function is used to retrieve values from a dictionary- .get()\n",
    "#unordered\n",
    "#unique keys\n",
    "#hashing\n",
    "\n",
    "\n",
    "d={}\n",
    "d['laptop']=40000\n",
    "d['mobile']=15000\n",
    "d['earphones']=1000\n",
    "print(d)"
   ]
  },
  {
   "cell_type": "code",
   "execution_count": 25,
   "id": "45165908-a43d-4395-954a-59df8b764a5a",
   "metadata": {},
   "outputs": [],
   "source": [
    "#Implicit Type conversion- this happens automaticlly without the programmers writing any specific code\n",
    "#Explicit type conversion-  need to use specific functions or syntax"
   ]
  },
  {
   "cell_type": "code",
   "execution_count": 32,
   "id": "3adf30a3-d432-4e24-8623-be109bcd915b",
   "metadata": {},
   "outputs": [
    {
     "name": "stdout",
     "output_type": "stream",
     "text": [
      "['a', 'b', 'c']\n",
      "1011\n",
      "21\n"
     ]
    }
   ],
   "source": [
    "\n",
    "l=['a','b','c']\n",
    "print(str(l))\n",
    "a=10\n",
    "b=11\n",
    "print(str(a)+str(b))\n",
    "print(a+b)\n",
    "\n"
   ]
  },
  {
   "cell_type": "code",
   "execution_count": 27,
   "id": "7a18b893-072c-469c-9d6c-63977be3eb19",
   "metadata": {},
   "outputs": [
    {
     "name": "stdout",
     "output_type": "stream",
     "text": [
      "0b10100\n",
      "0x14\n",
      "0o24\n"
     ]
    }
   ],
   "source": [
    "#Bin to decimal \n",
    "a=20\n",
    "print(bin(a))\n",
    "print(hex(a))\n",
    "print(oct(a))"
   ]
  },
  {
   "cell_type": "code",
   "execution_count": 29,
   "id": "5c030e13-7c78-42ad-839c-07325133d934",
   "metadata": {},
   "outputs": [
    {
     "name": "stdout",
     "output_type": "stream",
     "text": [
      "9\n",
      "513\n",
      "161\n"
     ]
    }
   ],
   "source": [
    "#back to decimal\n",
    "\n",
    "a=\"1001\"\n",
    "print(int(a,2))\n",
    "b=\"12\"\n",
    "print(int(a,8))\n",
    "c=\"A1\"\n",
    "print(int(c, 16))"
   ]
  },
  {
   "cell_type": "code",
   "execution_count": 33,
   "id": "bf441212-be72-45c6-a90a-10c9388ddc4a",
   "metadata": {},
   "outputs": [
    {
     "name": "stdout",
     "output_type": "stream",
     "text": [
      "27-09-2025\n",
      "Welcometo Home\n"
     ]
    }
   ],
   "source": [
    "#sep parameter specifies the seperator between multiple values, by default its space\n",
    "#end is used to what to print next line, by default it is a next line\n",
    "print(\"27\",\"09\",\"2025\", sep=\"-\")\n",
    "\n",
    "print(\"Welcome\", end=\"\")\n",
    "print(\"to Home\")\n"
   ]
  },
  {
   "cell_type": "code",
   "execution_count": 34,
   "id": "fdd467e4-30fb-4829-b885-8632a9da4366",
   "metadata": {},
   "outputs": [
    {
     "name": "stdin",
     "output_type": "stream",
     "text": [
      "Enter your name Sahana\n"
     ]
    },
    {
     "name": "stdout",
     "output_type": "stream",
     "text": [
      "HI BeautySahana\n"
     ]
    }
   ],
   "source": [
    "name=input(\"Enter your name\")\n",
    "print(\"HI Beauty\"  + name )"
   ]
  },
  {
   "cell_type": "code",
   "execution_count": 39,
   "id": "c478e378-c922-4bb5-9965-c62d4e7dc0fd",
   "metadata": {},
   "outputs": [
    {
     "name": "stdin",
     "output_type": "stream",
     "text": [
      "Enter 1st num 10\n",
      "Enter 2nd num 20\n"
     ]
    },
    {
     "name": "stdout",
     "output_type": "stream",
     "text": [
      "30\n"
     ]
    }
   ],
   "source": [
    "#int converts inputs to integers\n",
    "x=int(input(\"Enter 1st num\"))\n",
    "y=int(input(\"Enter 2nd num\"))\n",
    "res=x+y\n",
    "print(res)"
   ]
  },
  {
   "cell_type": "code",
   "execution_count": 42,
   "id": "151abafd-546c-4129-8e12-b1d953342784",
   "metadata": {},
   "outputs": [
    {
     "name": "stdin",
     "output_type": "stream",
     "text": [
      "Enter 1st num 10\n",
      "Enter 2nd num 20\n"
     ]
    },
    {
     "name": "stdout",
     "output_type": "stream",
     "text": [
      "1020\n"
     ]
    }
   ],
   "source": [
    "x=input(\"Enter 1st num\")\n",
    "y=input(\"Enter 2nd num\")\n",
    "res=str(x)+str(y)\n",
    "print(res)"
   ]
  },
  {
   "cell_type": "code",
   "execution_count": 43,
   "id": "3ae5f12b-b4db-4211-aee2-65514a31ca43",
   "metadata": {},
   "outputs": [
    {
     "name": "stdout",
     "output_type": "stream",
     "text": [
      "5\n"
     ]
    }
   ],
   "source": [
    "a=2\n",
    "b=3\n",
    "res=a+b\n",
    "print(res)"
   ]
  },
  {
   "cell_type": "code",
   "execution_count": null,
   "id": "4513c78a-17db-40d8-9923-a3e150dcd7ca",
   "metadata": {},
   "outputs": [],
   "source": [
    "#Operator precedenceL determines the order in which operators are performed in an expression.\n",
    "**  (exponential)\n",
    "*,/,//,% (mul, div, floor div, mod)\n",
    "+,-  (add, sub)\n",
    "#order associativity - left to right\n",
    "% -> it is used to find the remainder or last digit\n",
    "// -> floor devision(finds the quotient when first operand is divided by the secong)"
   ]
  },
  {
   "cell_type": "code",
   "execution_count": 44,
   "id": "b10017e8-4f3a-4115-ac7d-8ec4d7e04fae",
   "metadata": {},
   "outputs": [
    {
     "name": "stdout",
     "output_type": "stream",
     "text": [
      "4\n"
     ]
    }
   ],
   "source": [
    "x=7\n",
    "y=4\n",
    "result= x & y\n",
    "print(result)\n",
    "\n",
    "#and - if operands are 1 result is 1\n",
    "#or - if both operands are 1 result is 0"
   ]
  },
  {
   "cell_type": "code",
   "execution_count": 45,
   "id": "734a1137-0ab0-4b6e-985e-2202eff056b1",
   "metadata": {},
   "outputs": [
    {
     "name": "stdout",
     "output_type": "stream",
     "text": [
      "10\n"
     ]
    }
   ],
   "source": [
    "x=5\n",
    "print(x<<1)     #5*2 pow 1   right shift(moved towards right by the number of bits)\n",
    "x=5\n",
    "print(x>>1)    #5/2 pow 1   left shift"
   ]
  },
  {
   "cell_type": "code",
   "execution_count": 47,
   "id": "f172d7c0-bd35-4b1c-9915-0be4efe82a98",
   "metadata": {},
   "outputs": [
    {
     "name": "stdout",
     "output_type": "stream",
     "text": [
      "125000\n"
     ]
    }
   ],
   "source": [
    "#An arithmetic progression is a sequence of numbers in which the difference between consecutive terms is constant.\n",
    "a=5000\n",
    "d=2000\n",
    "n=61\n",
    "nth_term=a+(n-1)*d\n",
    "print(nth_term)"
   ]
  },
  {
   "cell_type": "code",
   "execution_count": 49,
   "id": "0b3f805e-8bab-4e6d-9f20-f91e7aad0df5",
   "metadata": {},
   "outputs": [
    {
     "name": "stdout",
     "output_type": "stream",
     "text": [
      "5120000\n"
     ]
    }
   ],
   "source": [
    "#A geometric progression is a sequence of numbers where each term after the first is found by multiplying the previous term by a fixed\n",
    "a=5000\n",
    "n=11\n",
    "r=2\n",
    "nth_term=a*(r**(n-1))\n",
    "print(nth_term)"
   ]
  },
  {
   "cell_type": "code",
   "execution_count": 51,
   "id": "19fda4b8-a70d-47ca-8eeb-d71a7de5b1be",
   "metadata": {},
   "outputs": [
    {
     "name": "stdout",
     "output_type": "stream",
     "text": [
      "55.0\n"
     ]
    }
   ],
   "source": [
    "#sum of n natural numbers\n",
    "n=10\n",
    "sum=n*(n+1)/2\n",
    "print(sum)"
   ]
  },
  {
   "cell_type": "code",
   "execution_count": 52,
   "id": "6b0141b2-6d28-4cac-86a9-120b55578aea",
   "metadata": {},
   "outputs": [
    {
     "name": "stdout",
     "output_type": "stream",
     "text": [
      "4\n"
     ]
    }
   ],
   "source": [
    "#to print the last digit\n",
    "x=234\n",
    "last_digit=x%10\n",
    "print(last_digit)"
   ]
  },
  {
   "cell_type": "code",
   "execution_count": 53,
   "id": "ee3d4633-a4bb-4465-ac64-5a25bf64650d",
   "metadata": {},
   "outputs": [
    {
     "name": "stdout",
     "output_type": "stream",
     "text": [
      "5\n"
     ]
    }
   ],
   "source": [
    "#day before n days\n",
    "d=0\n",
    "n=9\n",
    "day_before_n_days=(d-n)%7\n",
    "print(day_before_n_days)"
   ]
  },
  {
   "cell_type": "code",
   "execution_count": 56,
   "id": "0465bab0-9f30-4083-8c7d-b49b455a3ee3",
   "metadata": {},
   "outputs": [
    {
     "name": "stdout",
     "output_type": "stream",
     "text": [
      "10 is greater than 5\n",
      "program ended\n"
     ]
    }
   ],
   "source": [
    "if 10>5:\n",
    "    print(\"10 is greater than 5\")\n",
    "print(\"program ended\")\n",
    "    "
   ]
  },
  {
   "cell_type": "code",
   "execution_count": 59,
   "id": "0998f550-17d4-4351-8e25-66bccb3bb5c1",
   "metadata": {},
   "outputs": [
    {
     "name": "stdout",
     "output_type": "stream",
     "text": [
      "X is 4\n",
      "Program ended\n"
     ]
    }
   ],
   "source": [
    "x=4\n",
    "if x==4:\n",
    "    print(\"X is 4\")\n",
    "else:\n",
    "    print(\"x is not 4\")\n",
    "print(\"Program ended\")"
   ]
  },
  {
   "cell_type": "code",
   "execution_count": 60,
   "id": "d257f182-9da3-4b04-9b0f-703def246276",
   "metadata": {},
   "outputs": [
    {
     "name": "stdout",
     "output_type": "stream",
     "text": [
      "Greater then 15\n",
      "odd\n"
     ]
    }
   ],
   "source": [
    "num=21\n",
    "if num>=15:\n",
    "    print(\"Greater then 15\")\n",
    "    if num%2==0:\n",
    "        print(\"Even\")\n",
    "    else:\n",
    "        print(\"odd\")\n",
    "else:\n",
    "    print(\"less than 15\")"
   ]
  },
  {
   "cell_type": "code",
   "execution_count": 61,
   "id": "1a6b7933-1691-428d-8fa8-5456ab175682",
   "metadata": {},
   "outputs": [
    {
     "name": "stdout",
     "output_type": "stream",
     "text": [
      "winnere is: you\n"
     ]
    }
   ],
   "source": [
    "num_coins=5\n",
    "print(\"winnere is:\", end=\" \")\n",
    "if num_coins%2==0:\n",
    "    print(\"Opponent\")\n",
    "else: \n",
    "    print(\"you\")"
   ]
  },
  {
   "cell_type": "code",
   "execution_count": 62,
   "id": "f8eafdee-f551-4958-b4c7-5dbae5090c62",
   "metadata": {},
   "outputs": [
    {
     "name": "stdout",
     "output_type": "stream",
     "text": [
      "c is greater\n"
     ]
    }
   ],
   "source": [
    "a=10\n",
    "b=15\n",
    "c=20\n",
    "if a>b and a>c:\n",
    "    print(\"a is greater\")\n",
    "elif b>a and b>c:\n",
    "    print(\"b is greater\")\n",
    "else:\n",
    "    print(\"c is greater\")"
   ]
  },
  {
   "cell_type": "code",
   "execution_count": 72,
   "id": "3944d939-015e-4924-adad-cf6fc114fdd5",
   "metadata": {},
   "outputs": [
    {
     "name": "stdout",
     "output_type": "stream",
     "text": [
      "yes\n"
     ]
    }
   ],
   "source": [
    "#find the leap year\n",
    "year=2024\n",
    "if (year%4==0 and year%100!=0) or (year%400==0):\n",
    "    print(\"yes\")\n",
    "else:\n",
    "    print(\"No\")"
   ]
  },
  {
   "cell_type": "code",
   "execution_count": 76,
   "id": "52f0a80d-f4e1-4f69-b161-3a0367d25728",
   "metadata": {},
   "outputs": [
    {
     "name": "stdout",
     "output_type": "stream",
     "text": [
      "3\n"
     ]
    }
   ],
   "source": [
    "#simple calculator\n",
    "import sys\n",
    "choice=1,2,3\n",
    "\n",
    "num1=1\n",
    "num2=2\n",
    "choice = 1\n",
    "if choice==1:\n",
    "    print(num1+num2)\n",
    "elif choice==2:\n",
    "    print(num1-num2)\n",
    "elif choice==3:\n",
    "    print(num1*num2)\n",
    "else:\n",
    "    print(\"Invalid\")"
   ]
  },
  {
   "cell_type": "code",
   "execution_count": 1,
   "id": "fb0a2f4c-ce38-4e6d-8117-f7b19fe518bb",
   "metadata": {},
   "outputs": [
    {
     "name": "stdout",
     "output_type": "stream",
     "text": [
      "GeeksforGeeks\n",
      "GeeksforGeeks\n",
      "GeeksforGeeks\n",
      "GeeksforGeeks\n",
      "GeeksforGeeks\n"
     ]
    }
   ],
   "source": [
    "#Loops allow you execute code repeatedly untill condition satisfies\n",
    "#while loop is a fundamental structure allow you to execute block of statements multiple times untill specified condition is true\n",
    "i=0\n",
    "while i<5:\n",
    "    print(\"GeeksforGeeks\")\n",
    "    i=i+1"
   ]
  },
  {
   "cell_type": "code",
   "execution_count": 2,
   "id": "5b0206d9-53ca-4a89-b23c-957fb9975e1e",
   "metadata": {},
   "outputs": [
    {
     "name": "stdin",
     "output_type": "stream",
     "text": [
      "Enter a  number 6\n"
     ]
    },
    {
     "name": "stdout",
     "output_type": "stream",
     "text": [
      "Sahana\n",
      "Sahana\n",
      "Sahana\n",
      "Sahana\n",
      "Sahana\n",
      "Sahana\n"
     ]
    }
   ],
   "source": [
    "n=int(input(\"Enter a  number\"))\n",
    "i=0\n",
    "while i<n:\n",
    "    print(\"Sahana\")\n",
    "    i=i+1"
   ]
  },
  {
   "cell_type": "code",
   "execution_count": null,
   "id": "e6947e4e-3600-4a9e-8730-b2f15719596b",
   "metadata": {},
   "outputs": [],
   "source": [
    "#range-is used to generate a sequence of numbers\n",
    "#It is commonly used in for loops to iterate over a sequence of numbers, \n",
    "#allowing you to execute a block of code multiple times."
   ]
  },
  {
   "cell_type": "code",
   "execution_count": 36,
   "id": "681746e5-cd82-4e78-a2cd-1604e7376c1d",
   "metadata": {},
   "outputs": [
    {
     "name": "stdout",
     "output_type": "stream",
     "text": [
      "0\n",
      "1\n",
      "2\n",
      "3\n",
      "4\n",
      "5\n",
      "\n"
     ]
    }
   ],
   "source": [
    "#range(stop)-starts from 0 until n-1\n",
    "#range(start, stop, step)  step means increment or decrement\n",
    "#range(start, stop) from 0 to n-1\n",
    "for i in range(6):\n",
    "    print(i)"
   ]
  },
  {
   "cell_type": "code",
   "execution_count": 39,
   "id": "26e118aa-8adf-4137-9e81-e3a8754ffd76",
   "metadata": {},
   "outputs": [
    {
     "name": "stdout",
     "output_type": "stream",
     "text": [
      "10\n",
      "20\n",
      "30\n"
     ]
    }
   ],
   "source": [
    "#for loop is used to iterate over a sequence,\n",
    "#A sequence can be a list, tuple, string, set, or a range of numbers. \n",
    "#The for loop allows you to execute a block of code for each item in the sequence\n",
    "\n",
    "l=[10,20, 30]\n",
    "for x in l:\n",
    "    print(x)"
   ]
  },
  {
   "cell_type": "code",
   "execution_count": 41,
   "id": "c63dfc4c-f7f2-4b86-94db-f8fceda3de0f",
   "metadata": {},
   "outputs": [
    {
     "name": "stdout",
     "output_type": "stream",
     "text": [
      "0\n",
      "6\n",
      "12\n",
      "18\n"
     ]
    }
   ],
   "source": [
    "#iterate over the range\n",
    "for x in range(20):\n",
    "    if x%6==0:\n",
    "        print(x)"
   ]
  },
  {
   "cell_type": "code",
   "execution_count": 55,
   "id": "644d1575-2df2-4245-9402-c33eb9ce2b9c",
   "metadata": {},
   "outputs": [
    {
     "name": "stdout",
     "output_type": "stream",
     "text": [
      "10\n",
      "20\n",
      "30\n",
      "40\n",
      "4\n"
     ]
    }
   ],
   "source": [
    "# Iterate through a list using index and print each item\n",
    "l = [10, 20, 30, 40]\n",
    "for i in range(len(l)):\n",
    "    print(l[i])\n",
    "print(len(l))"
   ]
  },
  {
   "cell_type": "code",
   "execution_count": 56,
   "id": "2dad048f-a572-4086-8711-90ad800ea3ba",
   "metadata": {},
   "outputs": [
    {
     "name": "stdout",
     "output_type": "stream",
     "text": [
      "0 10\n",
      "1 20\n",
      "2 30\n",
      "3 40\n"
     ]
    }
   ],
   "source": [
    "#iterate and print index and element \n",
    "l = [10, 20, 30, 40]\n",
    "for i in range(len(l)):\n",
    "    print(i, l[i])"
   ]
  },
  {
   "cell_type": "code",
   "execution_count": 59,
   "id": "67ed3571-36b9-4bdc-870a-7b9666d5bfc4",
   "metadata": {},
   "outputs": [
    {
     "name": "stdout",
     "output_type": "stream",
     "text": [
      "5 10 15 20 25 30 35 40 45 50 "
     ]
    }
   ],
   "source": [
    "#Multiplication table\n",
    "n=5\n",
    "i=1\n",
    "while i<=10:\n",
    "    print(n*i, end=\" \")\n",
    "    i=i+1"
   ]
  },
  {
   "cell_type": "code",
   "execution_count": 61,
   "id": "c8b5ce36-9e83-4f3e-9dd2-81bcb38f2e4f",
   "metadata": {},
   "outputs": [
    {
     "name": "stdout",
     "output_type": "stream",
     "text": [
      "5 10 15 20 25 30 35 40 45 50 "
     ]
    }
   ],
   "source": [
    "n=5\n",
    "for i in range(1, 11):\n",
    "    print(n*i, end=\" \")\n",
    "    \n",
    "    "
   ]
  },
  {
   "cell_type": "code",
   "execution_count": 66,
   "id": "d3ba77de-f386-46fc-ac9c-a2976ad28ee7",
   "metadata": {},
   "outputs": [
    {
     "name": "stdout",
     "output_type": "stream",
     "text": [
      "3\n",
      "5\n",
      "15\n"
     ]
    }
   ],
   "source": [
    "#break - used to terminate the loop when condition mets\n",
    "n=15\n",
    "for i in range(2, n+1):\n",
    "    if n%i==0:\n",
    "        print(i)\n",
    "        "
   ]
  },
  {
   "cell_type": "code",
   "execution_count": 67,
   "id": "9ac00f65-5918-4a69-823c-154b11942fe9",
   "metadata": {},
   "outputs": [
    {
     "name": "stdout",
     "output_type": "stream",
     "text": [
      "3\n"
     ]
    }
   ],
   "source": [
    "n=15\n",
    "for i in range(2, n+1):\n",
    "    if n%i==0:\n",
    "        print(i)\n",
    "        break"
   ]
  },
  {
   "cell_type": "code",
   "execution_count": 68,
   "id": "b7d350e8-42a8-4e1a-8b51-a14145706356",
   "metadata": {},
   "outputs": [
    {
     "name": "stdout",
     "output_type": "stream",
     "text": [
      "3\n"
     ]
    }
   ],
   "source": [
    "x=2\n",
    "while x<=15:\n",
    "    if n%x==0:\n",
    "        print(x)\n",
    "        break\n",
    "    x=x+1"
   ]
  },
  {
   "cell_type": "code",
   "execution_count": 69,
   "id": "bb233d53-61b8-4868-8891-e2ae4cda4bec",
   "metadata": {},
   "outputs": [
    {
     "name": "stdout",
     "output_type": "stream",
     "text": [
      "1\n",
      "2\n",
      "3\n"
     ]
    }
   ],
   "source": [
    "i = 1\n",
    "while i <= 5:\n",
    "    if i == 3:\n",
    "        break\n",
    "    print(i)\n",
    "    i = i + 1\n",
    "print(i)"
   ]
  },
  {
   "cell_type": "code",
   "execution_count": 70,
   "id": "6e1a8e78-56d9-4df4-b394-fb9d50d3ad24",
   "metadata": {},
   "outputs": [
    {
     "name": "stdout",
     "output_type": "stream",
     "text": [
      "16\n",
      "17\n",
      "18\n",
      "19\n"
     ]
    }
   ],
   "source": [
    "#continue statement specifically is used to skip the rest of the code inside the loop for the current iteration \n",
    "\n",
    "l = [10, 16, 17, 18, 19, 15]\n",
    "\n",
    "for x in l:\n",
    "    if x % 5 == 0:\n",
    "        continue\n",
    "    print(x)"
   ]
  },
  {
   "cell_type": "code",
   "execution_count": 72,
   "id": "a31a1e60-ae8c-4223-a166-15914c3578a1",
   "metadata": {},
   "outputs": [
    {
     "name": "stdout",
     "output_type": "stream",
     "text": [
      "1 2 3 4 5 6 7 8 9 10 \n",
      "2 4 6 8 10 \n",
      "3 6 9 \n",
      "4 8 \n",
      "5 10 \n"
     ]
    }
   ],
   "source": [
    "#nested loop\n",
    "for i in range(1, 6):\n",
    "    for j in range(i, 11, i):\n",
    "        print(j, end=\" \")\n",
    "    print()"
   ]
  },
  {
   "cell_type": "code",
   "execution_count": 76,
   "id": "8e15a408-e041-4907-82ce-861cb1d0f307",
   "metadata": {},
   "outputs": [
    {
     "name": "stdout",
     "output_type": "stream",
     "text": [
      "* * * * * \n",
      "* * * * * \n",
      "* * * * * \n",
      "* * * * * \n",
      "* * * * * \n"
     ]
    }
   ],
   "source": [
    "#square pattern \n",
    "#it iterates 5 times, each iterate will also iterate 5 times, for each iteration print *\n",
    "n=5\n",
    "for i in range(n):\n",
    "    for j in range(n):\n",
    "        print(\"*\", end =\" \")\n",
    "    print()"
   ]
  },
  {
   "cell_type": "code",
   "execution_count": 77,
   "id": "ca2c5e7b-f567-4d19-9d48-748066d0bb6f",
   "metadata": {},
   "outputs": [
    {
     "name": "stdout",
     "output_type": "stream",
     "text": [
      "* \n",
      "* * \n",
      "* * * \n",
      "* * * * \n",
      "* * * * * \n"
     ]
    }
   ],
   "source": [
    "#triangle patter\n",
    "\n",
    "n=5\n",
    "for i in range(n):\n",
    "    for j in range(i+1):\n",
    "        print(\"*\", end =\" \")\n",
    "    print()"
   ]
  },
  {
   "cell_type": "code",
   "execution_count": 80,
   "id": "08535d31-af62-4236-8619-09250669250a",
   "metadata": {},
   "outputs": [
    {
     "name": "stdout",
     "output_type": "stream",
     "text": [
      "* * * * * \n",
      "* * * * \n",
      "* * * \n",
      "* * \n",
      "* \n"
     ]
    }
   ],
   "source": [
    "n=5\n",
    "for i in range(n):\n",
    "    for j in range(n-i):\n",
    "        print(\"*\", end =\" \")\n",
    "    print()"
   ]
  },
  {
   "cell_type": "code",
   "execution_count": 81,
   "id": "da5949d6-a689-4d0d-8ad2-debd002b38d3",
   "metadata": {},
   "outputs": [
    {
     "name": "stdout",
     "output_type": "stream",
     "text": [
      "    *\n",
      "   ***\n",
      "  *****\n",
      " *******\n",
      "*********\n"
     ]
    }
   ],
   "source": [
    "n = 5\n",
    "for i in range(n):\n",
    "                                    # Print leading spaces\n",
    "    for j in range(n - i - 1):\n",
    "        print(' ', end='')\n",
    "    \n",
    "    for k in range(2 * i + 1):\n",
    "        print('*', end='')\n",
    "                                    # Move to the next line after printing each row\n",
    "    print()"
   ]
  },
  {
   "cell_type": "code",
   "execution_count": 82,
   "id": "50010c0f-757a-4d08-bdbc-60d9d56cdf5f",
   "metadata": {},
   "outputs": [
    {
     "name": "stdout",
     "output_type": "stream",
     "text": [
      "4\n"
     ]
    }
   ],
   "source": [
    "#count the digits\n",
    "n=9876\n",
    "count=0\n",
    "while n>0:\n",
    "    n=n//10\n",
    "    count=count+1\n",
    "print(count)"
   ]
  },
  {
   "cell_type": "code",
   "execution_count": 90,
   "id": "e57f36ad-b416-4f67-b73b-d87704cfdc46",
   "metadata": {},
   "outputs": [
    {
     "name": "stdout",
     "output_type": "stream",
     "text": [
      "24\n"
     ]
    }
   ],
   "source": [
    "#factorial \n",
    "n=4\n",
    "factorial=1\n",
    "for i in range(2, n+1):\n",
    "    factorial=factorial*i\n",
    "print(factorial)\n",
    "    "
   ]
  },
  {
   "cell_type": "code",
   "execution_count": 87,
   "id": "08980d88-e538-49eb-94f4-0b3461d80bca",
   "metadata": {},
   "outputs": [
    {
     "name": "stdout",
     "output_type": "stream",
     "text": [
      "24\n"
     ]
    }
   ],
   "source": [
    "import math\n",
    "n=4\n",
    "print(math.factorial(n))\n"
   ]
  },
  {
   "cell_type": "code",
   "execution_count": 95,
   "id": "d3d27ed0-f15c-4162-bd64-8f0160f5faa9",
   "metadata": {},
   "outputs": [
    {
     "name": "stdout",
     "output_type": "stream",
     "text": [
      "no\n"
     ]
    }
   ],
   "source": [
    "#Prime numbers are numbers greater than 1 that have no divisors other than 1 and themselves. \n",
    "\n",
    "n=91\n",
    "if n<=1:\n",
    "    print(\"no\")\n",
    "else:\n",
    "    for i in range(2, n):\n",
    "        if n%i==0:\n",
    "            print(\"no\")\n",
    "            break\n",
    "            \n",
    "    else:\n",
    "        print(\"yes\")\n",
    "           \n",
    "            "
   ]
  },
  {
   "cell_type": "code",
   "execution_count": null,
   "id": "073b24a6-b3b0-4c8d-95da-bc5a12f79c44",
   "metadata": {},
   "outputs": [],
   "source": []
  }
 ],
 "metadata": {
  "kernelspec": {
   "display_name": "Python 3 (ipykernel)",
   "language": "python",
   "name": "python3"
  },
  "language_info": {
   "codemirror_mode": {
    "name": "ipython",
    "version": 3
   },
   "file_extension": ".py",
   "mimetype": "text/x-python",
   "name": "python",
   "nbconvert_exporter": "python",
   "pygments_lexer": "ipython3",
   "version": "3.11.7"
  },
  "widgets": {
   "application/vnd.jupyter.widget-state+json": {
    "state": {},
    "version_major": 2,
    "version_minor": 0
   }
  }
 },
 "nbformat": 4,
 "nbformat_minor": 5
}
