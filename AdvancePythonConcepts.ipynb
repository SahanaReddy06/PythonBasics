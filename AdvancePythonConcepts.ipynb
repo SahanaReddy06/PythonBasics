{
 "cells": [
  {
   "cell_type": "code",
   "execution_count": 2,
   "id": "b9f40c46-2c86-4532-b0db-15e3818a8163",
   "metadata": {},
   "outputs": [
    {
     "name": "stdout",
     "output_type": "stream",
     "text": [
      "[(1, 'a'), (2, 'b'), (3, 'c')]\n"
     ]
    }
   ],
   "source": [
    "#zip() - python takes multiple iterable objects and aggregates them into a single iterator of tuples\n",
    "l1=[1,2,3]\n",
    "l2=['a','b','c']\n",
    "zipped=zip(l1, l2)\n",
    "print(list(zipped))"
   ]
  },
  {
   "cell_type": "code",
   "execution_count": 4,
   "id": "c0c1d98f-48b4-4ec9-8d78-31cb81665814",
   "metadata": {},
   "outputs": [
    {
     "name": "stdout",
     "output_type": "stream",
     "text": [
      "[[1, 4, 7], [2, 5, 8], [3, 6, 9]]\n"
     ]
    }
   ],
   "source": [
    "matrix=[[1,2,3],[4,5,6],[7,8,9]]\n",
    "print([list(row) for row in zip(*matrix)])   #converts rows into col"
   ]
  },
  {
   "cell_type": "code",
   "execution_count": 14,
   "id": "0f799da6-a0e3-466b-a8a6-ca137d16320c",
   "metadata": {},
   "outputs": [
    {
     "name": "stdout",
     "output_type": "stream",
     "text": [
      "[2, 12, 30]\n"
     ]
    }
   ],
   "source": [
    "l1=[2,4,6]\n",
    "l2=[1,3,5]\n",
    "res=[i*j for i,j in zip(l1, l2)]\n",
    "print(res)\n"
   ]
  },
  {
   "cell_type": "code",
   "execution_count": 16,
   "id": "f47324dc-fd51-4789-9029-c4dc18acc18a",
   "metadata": {},
   "outputs": [
    {
     "name": "stdout",
     "output_type": "stream",
     "text": [
      "[2, 4, 6]\n"
     ]
    }
   ],
   "source": [
    "def even(num):\n",
    "    return num%2==0\n",
    "numbers=[1,2,3,4,5,6]\n",
    "filtered=filter(even, numbers)\n",
    "print(list(filtered))"
   ]
  },
  {
   "cell_type": "code",
   "execution_count": 17,
   "id": "fd1b42e7-a2ae-4b96-85a0-ba8d477d25fe",
   "metadata": {},
   "outputs": [
    {
     "name": "stdout",
     "output_type": "stream",
     "text": [
      "8\n"
     ]
    }
   ],
   "source": [
    "#lambda:   it can hv any number of arguments but single expression\n",
    "add=lambda x,y: x+y\n",
    "print(add(5,3))"
   ]
  },
  {
   "cell_type": "code",
   "execution_count": 18,
   "id": "048c0ec9-a5fa-4129-a1d5-e5066eeeb344",
   "metadata": {},
   "outputs": [
    {
     "name": "stdout",
     "output_type": "stream",
     "text": [
      "[2, 4, 6]\n"
     ]
    }
   ],
   "source": [
    "num=[1,2,3,4,5,6]\n",
    "print(list(filter(lambda x: x%2==0, num)))"
   ]
  },
  {
   "cell_type": "code",
   "execution_count": 21,
   "id": "13b3396a-7386-4fd3-a4d0-534eeeea6683",
   "metadata": {},
   "outputs": [
    {
     "name": "stdout",
     "output_type": "stream",
     "text": [
      "[1, 4, 9, 16]\n"
     ]
    }
   ],
   "source": [
    "#map() - it applies a specified fun to each item of an iterable and returns a map object.\n",
    "def square(num):\n",
    "    return num**2\n",
    "numbers=[1,2,3,4]\n",
    "sq=list(map(square, numbers))\n",
    "print(sq)"
   ]
  },
  {
   "cell_type": "code",
   "execution_count": 22,
   "id": "a65d2470-e026-4778-a648-4ca57a1bcf50",
   "metadata": {},
   "outputs": [
    {
     "name": "stdout",
     "output_type": "stream",
     "text": [
      "[6, 7]\n"
     ]
    }
   ],
   "source": [
    "names=['sahana', 'ashwath']\n",
    "print(list(map(lambda x: len(x), names)))"
   ]
  },
  {
   "cell_type": "code",
   "execution_count": null,
   "id": "96f272a8-1c88-45be-8651-47885ebef198",
   "metadata": {},
   "outputs": [],
   "source": [
    "#errors\n",
    "syntax error- when code violates the language grammar rules\n",
    "runtime error- it happens during execution of program, dividing by zero will raise an error\n",
    "logical error- it produces incorrect result due to logical error\n",
    "name error- when variables not defined\n",
    "type error- when object is an appropriate type\n",
    "index error-it occurs when u try to access an index that is out for a list\n",
    "key error- when key is not existing \n",
    "value error-inappropriate value"
   ]
  },
  {
   "cell_type": "code",
   "execution_count": null,
   "id": "520d7d87-bea9-402d-8a32-adb720f84ca7",
   "metadata": {},
   "outputs": [],
   "source": [
    "#exception handling is a mechanism allow you to manage errors during the execution of a program\n",
    "#exception is an event that disrupts the normal flow of a programms instructions\n",
    "#try block that you test a code, it might cause an error inside the try block\n",
    "#except block to handle the errors"
   ]
  },
  {
   "cell_type": "code",
   "execution_count": 25,
   "id": "ddf4af58-fb54-4456-b208-1b0dbfdc8850",
   "metadata": {},
   "outputs": [
    {
     "name": "stdin",
     "output_type": "stream",
     "text": [
      "Enter a number a\n"
     ]
    },
    {
     "name": "stdout",
     "output_type": "stream",
     "text": [
      "not valid\n"
     ]
    }
   ],
   "source": [
    "try:\n",
    "    n=int(input(\"Enter a number\"))\n",
    "    print(n)\n",
    "except ValueError:\n",
    "    print(\"not valid\")"
   ]
  },
  {
   "cell_type": "code",
   "execution_count": 26,
   "id": "6cb1639b-9355-4a5a-abf2-5d52ac8b348e",
   "metadata": {},
   "outputs": [
    {
     "name": "stdin",
     "output_type": "stream",
     "text": [
      "Enter a number 10\n"
     ]
    },
    {
     "name": "stdout",
     "output_type": "stream",
     "text": [
      "1.0\n"
     ]
    }
   ],
   "source": [
    "try:\n",
    "    n=int(input(\"Enter a number\"))\n",
    "    res=10/n\n",
    "except ValueError:\n",
    "    print(\"not valid\")\n",
    "except ZeroDivisionError:\n",
    "    print(\"Cannot divide by zero\")\n",
    "else:\n",
    "    print(res)"
   ]
  },
  {
   "cell_type": "code",
   "execution_count": 29,
   "id": "07dac8eb-5e72-40cb-ad95-547ee664c38b",
   "metadata": {},
   "outputs": [
    {
     "name": "stdin",
     "output_type": "stream",
     "text": [
      "Enter you age 20\n"
     ]
    },
    {
     "name": "stdout",
     "output_type": "stream",
     "text": [
      "yous age is 20\n"
     ]
    }
   ],
   "source": [
    "def check(age):\n",
    "    if age<0:\n",
    "        raise ValueError(\"age cannot be negative!\")\n",
    "    print(f\"yous age is {age}\")\n",
    "try:\n",
    "    age=int(input(\"Enter you age\"))\n",
    "    check(age)\n",
    "except ValueError as ve:\n",
    "    print(ve)"
   ]
  },
  {
   "cell_type": "code",
   "execution_count": null,
   "id": "f4682046-79cf-49c6-90cd-371cbbd320fc",
   "metadata": {},
   "outputs": [],
   "source": [
    "#File handling \n",
    "open()\n",
    "close()\n",
    "file.read()\n",
    "file.write()\n",
    "with open(----) as file  -> with statement handles opening and closing files"
   ]
  }
 ],
 "metadata": {
  "kernelspec": {
   "display_name": "Python 3 (ipykernel)",
   "language": "python",
   "name": "python3"
  },
  "language_info": {
   "codemirror_mode": {
    "name": "ipython",
    "version": 3
   },
   "file_extension": ".py",
   "mimetype": "text/x-python",
   "name": "python",
   "nbconvert_exporter": "python",
   "pygments_lexer": "ipython3",
   "version": "3.11.7"
  },
  "widgets": {
   "application/vnd.jupyter.widget-state+json": {
    "state": {},
    "version_major": 2,
    "version_minor": 0
   }
  }
 },
 "nbformat": 4,
 "nbformat_minor": 5
}
